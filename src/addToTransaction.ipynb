{
 "cells": [
  {
   "cell_type": "code",
   "execution_count": null,
   "metadata": {
    "collapsed": true
   },
   "outputs": [],
   "source": [
    "class Blockchain(object):\n",
    "    ...\n",
    "    \n",
    "    def new_transaction(self, sender, recipient, amount):\n",
    "        \"\"\"\n",
    "        Creates a new transaction to go into the next mined Block\n",
    "        :param sender: <str> Address of the Sender\n",
    "        :param recipient: <str> Address of the Recipient\n",
    "        :param amount: <int> Amount\n",
    "        :return: <int> The index of the Block that will hold this transaction\n",
    "        \"\"\"\n",
    "\n",
    "        self.current_transactions.append({\n",
    "            'sender': sender,\n",
    "            'recipient': recipient,\n",
    "            'amount': amount,\n",
    "        })\n",
    "\n",
    "        return self.last_block['index'] + 1"
   ]
  }
 ],
 "metadata": {
  "kernelspec": {
   "display_name": "Python 3",
   "language": "python",
   "name": "python3"
  },
  "language_info": {
   "codemirror_mode": {
    "name": "ipython",
    "version": 3
   },
   "file_extension": ".py",
   "mimetype": "text/x-python",
   "name": "python",
   "nbconvert_exporter": "python",
   "pygments_lexer": "ipython3",
   "version": "3.6.3"
  }
 },
 "nbformat": 4,
 "nbformat_minor": 2
}
