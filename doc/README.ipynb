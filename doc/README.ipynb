{
 "cells": [
  {
   "cell_type": "markdown",
   "metadata": {},
   "source": [
    "#                                     Weaver- *connections made easy*\n",
    "## phase 1 Identity management\n",
    "**The emergence of blockchain owes its birth to Bitcoin** But while Bitcoin centrally focuses on sending and receiving digital currency, our solutions have emerged using blockchain beyond a pure payment system.\n",
    "\n",
    "Just like Bitcoin, **Weaver** is trustless and uses consensus and miners to add blocks. When a new events is added, it gets added to every user. That's where the similarities largely end. Instead of currency as the end goal, **Weaver** leverages Ethereum which enables peers using a proprietary language called Solidity to write code that is distributed across the EVM and executed under certain conditions.\n",
    "\n",
    "In blockchain parlance, we call this code **smart contracts**. Smart contracts enable distributed applications known as dapps. But why code on a blockchain? Most enterprise class applications rely on expensive and redundant architecture. Everything from identity management to storage must be provided and supported. In addition, several layers of code to ensure security, scalability, and logic create cost and performance overhead.\n",
    "\n",
    "## phase 2 Social entity\n",
    "The magic with Ethereum is that, when smart contracts are executed, there is a **movement of cryptocurrency**, in this case, ether that acts as a method of payment and authentication. Imagine writing an Ethereum application that enables a person to play a premium-based LinkedIn Learning training video. The code will be executed upon confirmation of ether payment. Because Ethereum uses the same cryptocurrency qualities as Bitcoin, it doesn't require any additional authentication methods, payment gateways, account management, credit cards, or complex forms.\n",
    "\n",
    "In this way, a smart contract is more like a commodity. While we're still in the early days of application development, there are a number of ideas being pursued, including a **voting system** called Horizon State, a **predication market** called Augur, a **live broadcasting system** called Livepeer. These few give us a sense of the diversity we can expect in the future.\n",
    "\n",
    "![](https://letstalkpayments.com/wp-content/uploads/2016/03/Authentication.jpg)\n",
    "\n",
    "## phase next...\n",
    "Solidity remains a work in progress, so expect many changes ahead. Ethereum illustrates the enormous potential of blockchain technology. Rather than a technology limited to digital money, blockchain opens up a completely new way of thinking about developing, deploying, and executing software. While the future path for Ethereum and others is still somewhat unpredictable, the winners that emerge will be the creators of the next generation of the internet.\n",
    "```python\n",
    "{class Blockchain(object):\n",
    "    def __init__(self):\n",
    "        self.chain = []\n",
    "        self.current_transactions = []\n",
    "        \n",
    "    def new_block(self):\n",
    "        # Creates a new Block and adds it to the chain\n",
    "        pass\n",
    "    \n",
    "    def new_transaction(self):\n",
    "        # Adds a new event to the list of transactions\n",
    "        pass\n",
    "    \n",
    "    @staticmethod\n",
    "    def hash(block):\n",
    "        # Hashes a Block\n",
    "        pass\n",
    "\n",
    "    @property\n",
    "    def last_block(self):\n",
    "        # Returns the last Block in the chain\n",
    "       pass  }\n",
    "```\n",
    "\n",
    "### Reference\n",
    "[Blog](https://hackernoon.com/learn-blockchains-by-building-one-117428612f46) \n",
    "[Lynda](https://www.lynda.com/Blockchain-tutorials/Blockchain-Beyond-Basics)\n",
    "[Ethereum](https://ethereum.org/token)\n",
    "[ElasticBeanstalk](https://docs.aws.amazon.com/elasticbeanstalk/latest/dg/customize-containers-ec2.html#customize-containers-format-container_commands)"
   ]
  },
  {
   "cell_type": "code",
   "execution_count": null,
   "metadata": {
    "collapsed": true
   },
   "outputs": [],
   "source": []
  },
  {
   "cell_type": "code",
   "execution_count": null,
   "metadata": {
    "collapsed": true
   },
   "outputs": [],
   "source": []
  }
 ],
 "metadata": {
  "kernelspec": {
   "display_name": "Python 3",
   "language": "python",
   "name": "python3"
  },
  "language_info": {
   "codemirror_mode": {
    "name": "ipython",
    "version": 3
   },
   "file_extension": ".py",
   "mimetype": "text/x-python",
   "name": "python",
   "nbconvert_exporter": "python",
   "pygments_lexer": "ipython3",
   "version": "3.6.3"
  }
 },
 "nbformat": 4,
 "nbformat_minor": 2
}
