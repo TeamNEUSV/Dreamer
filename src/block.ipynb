{
 "cells": [
  {
   "cell_type": "code",
   "execution_count": null,
   "metadata": {
    "collapsed": true
   },
   "outputs": [],
   "source": [
    "block = {\n",
    "    'index': 1,\n",
    "    'timestamp': 1506057125.900785,\n",
    "    'transactions': [\n",
    "        {\n",
    "            'sender': \"8527147fe1f5426f9dd545de4b27ee00\",\n",
    "            'recipient': \"a77f5cdfa2934df3954a5c7c7da5df1f\",\n",
    "            'amount': 5,\n",
    "        }\n",
    "    ],\n",
    "    'proof': 324984774000,\n",
    "    'previous_hash': \"2cf24dba5fb0a30e26e83b2ac5b9e29e1b161e5c1fa7425e73043362938b9824\"\n",
    "}"
   ]
  }
 ],
 "metadata": {
  "kernelspec": {
   "display_name": "Python 3",
   "language": "python",
   "name": "python3"
  },
  "language_info": {
   "codemirror_mode": {
    "name": "ipython",
    "version": 3
   },
   "file_extension": ".py",
   "mimetype": "text/x-python",
   "name": "python",
   "nbconvert_exporter": "python",
   "pygments_lexer": "ipython3",
   "version": "3.6.3"
  }
 },
 "nbformat": 4,
 "nbformat_minor": 2
}
